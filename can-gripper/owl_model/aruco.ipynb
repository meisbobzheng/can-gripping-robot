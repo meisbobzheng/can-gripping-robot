{
 "cells": [
  {
   "cell_type": "code",
   "execution_count": null,
   "metadata": {},
   "outputs": [
    {
     "name": "stdout",
     "output_type": "stream",
     "text": [
      "Camera calibration successful!\n",
      "Camera matrix:\n",
      " [[1.83921948e+03 0.00000000e+00 3.18746645e+02]\n",
      " [0.00000000e+00 1.39871140e+03 2.42980391e+02]\n",
      " [0.00000000e+00 0.00000000e+00 1.00000000e+00]]\n",
      "Distortion coefficients:\n",
      " [[ 9.14134180e-01  8.71723947e+01  1.72328813e-01  2.09509326e-01\n",
      "  -1.99624787e+03]]\n"
     ]
    }
   ],
   "source": [
    "import numpy as np\n",
    "import cv2\n",
    "import cv2.aruco as aruco\n",
    "import glob\n",
    "\n",
    "marker_length = 0.015  # Length of each marker's side (in meters or millimeters)\n",
    "\n",
    "obj_points = []  # List to store object points for each image\n",
    "img_points = []  # List to store image points for each image\n",
    "\n",
    "aruco_dict = aruco.getPredefinedDictionary(aruco.DICT_4X4_250)  \n",
    "board = aruco.GridBoard((8, 11), marker_length, 0.011, aruco_dict)  \n",
    "parameters =  cv2.aruco.DetectorParameters()\n",
    "detector = cv2.aruco.ArucoDetector(aruco_dict, parameters)\n",
    "\n",
    "# Get the list of images containing the ArUco board\n",
    "images = glob.glob('./callibration_images/*.jpg')  \n",
    "\n",
    "# Loop through each image\n",
    "for image_path in images:\n",
    "    # Read the image\n",
    "    img = cv2.imread(image_path)\n",
    "    gray = cv2.cvtColor(img, cv2.COLOR_BGR2GRAY)  # Convert to grayscale\n",
    "\n",
    "    # Detect markers in the image\n",
    "    corners, ids, rejectedImgPoints = detector.detectMarkers(gray)\n",
    "\n",
    "    # If markers are detected, proceed with the calibration process\n",
    "    if len(corners) > 0:\n",
    "        # Add object points (same for each image as the board is fixed)\n",
    "        obj_points.append(board.getObjPoints()[0])  # Add object points for the grid\n",
    "        img_points.append(corners[0])  # Add detected corners from the image\n",
    "\n",
    "        # Draw detected markers on the image (optional visualization)\n",
    "        img_markers = aruco.drawDetectedMarkers(img.copy(), corners, ids)\n",
    "        cv2.imshow('Detected Markers', img_markers)\n",
    "        cv2.waitKey(500)  # Wait 500 ms before showing the next image\n",
    "\n",
    "# Close any open OpenCV windows\n",
    "cv2.destroyAllWindows()\n",
    "\n",
    "# Perform camera calibration if sufficient images are found\n",
    "if len(obj_points) > 0:\n",
    "    # Calibrate the camera using the collected object points and image points\n",
    "    ret, camera_matrix, dist_coeffs, rvecs, tvecs = cv2.calibrateCamera(obj_points, img_points, gray.shape[::-1], None, None)\n",
    "\n",
    "    if ret:\n",
    "        print(\"Camera calibration successful!\")\n",
    "        print(\"Camera matrix:\\n\", camera_matrix)\n",
    "        print(\"Distortion coefficients:\\n\", dist_coeffs)\n",
    "    else:\n",
    "        print(\"Calibration failed!\")\n",
    "else:\n",
    "    print(\"No valid images detected for calibration.\")\n"
   ]
  },
  {
   "cell_type": "code",
   "execution_count": 16,
   "metadata": {},
   "outputs": [],
   "source": [
    "# Undistort an image using the calibration results\n",
    "img = cv2.imread('./callibration_images/image_0.jpg')\n",
    "h, w = img.shape[:2]\n",
    "new_camera_matrix, roi = cv2.getOptimalNewCameraMatrix(camera_matrix, dist_coeffs, (w, h), 1, (w, h))\n",
    "\n",
    "# Undistort the image\n",
    "undistorted_img = cv2.undistort(img, camera_matrix, dist_coeffs, None, new_camera_matrix)\n",
    "\n",
    "# Crop the image based on the region of interest (ROI)\n",
    "x, y, w, h = roi\n",
    "undistorted_img = undistorted_img[y:y+h, x:x+w]\n",
    "\n",
    "# Show the undistorted image\n",
    "cv2.imshow('Undistorted Image', undistorted_img)\n",
    "cv2.waitKey(0)\n",
    "cv2.destroyAllWindows()\n"
   ]
  },
  {
   "cell_type": "code",
   "execution_count": null,
   "metadata": {},
   "outputs": [],
   "source": []
  }
 ],
 "metadata": {
  "kernelspec": {
   "display_name": ".venv",
   "language": "python",
   "name": "python3"
  },
  "language_info": {
   "codemirror_mode": {
    "name": "ipython",
    "version": 3
   },
   "file_extension": ".py",
   "mimetype": "text/x-python",
   "name": "python",
   "nbconvert_exporter": "python",
   "pygments_lexer": "ipython3",
   "version": "3.10.4"
  }
 },
 "nbformat": 4,
 "nbformat_minor": 2
}
